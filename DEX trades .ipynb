{
 "cells": [
  {
   "cell_type": "code",
   "execution_count": null,
   "id": "4449e850",
   "metadata": {
    "pycharm": {
     "name": "#%%\n",
     "is_executing": true
    }
   },
   "outputs": [],
   "source": [
    "\n",
    "\n",
    "import requests\n",
    "import yaml\n",
    "import json\n",
    "import pandas as pd\n",
    "import os\n",
    "\n",
    "RESULTS_DIR = os.path.join(os.getcwd(), 'results')\n",
    "QUERIES_DIR = os.path.join(os.getcwd(), 'queries')\n",
    "\n",
    "##############################################################################################################################\n",
    "# Toggle the below boolean to change whether the program fetches queries (false) or loads pre-fetched data (true)\n",
    "LOAD_FROM_FILE = True\n",
    "##############################################################################################################################\n",
    "\n",
    "\n",
    "def run_query(query):  # A simple function to use requests.post to make the API call.\n",
    "    headers = {'X-API-KEY': 'BQYz1346Js0w2ccp4fytxBHdFmkTbhsm'}\n",
    "    request = requests.post('https://graphql.bitquery.io/', json={'query': query, 'variables': variables},\n",
    "                            headers=headers)\n",
    "    if request.status_code == 200:\n",
    "        return request.json()\n",
    "    else:\n",
    "        raise Exception('Query failed and return code is {}.      {}'.format(request.status_code, query))\n",
    "\n",
    "\n",
    "def write_json_to_file(json_obj, file):\n",
    "    with open(file, 'w') as f_out:\n",
    "        json.dump(json_obj, f_out)\n",
    "\n",
    "\n",
    "def load_json_from_file(file):\n",
    "    with open(file, 'r') as f_in:\n",
    "        json_obj = json.load(f_in)\n",
    "    return json_ob"
   ]
  },
  {
   "cell_type": "markdown",
   "id": "ece2d472",
   "metadata": {
    "pycharm": {
     "name": "#%% md\n"
    }
   },
   "source": [
    "#### The first query fetches the number of decentralized exchange trades in the Ethereum chain"
   ]
  },
  {
   "cell_type": "code",
   "execution_count": null,
   "id": "8cf8d7ca",
   "metadata": {
    "pycharm": {
     "name": "#%%\n",
     "is_executing": true
    }
   },
   "outputs": [],
   "source": [
    "variables = {\n",
    "  \"limit\": 10,\n",
    "  \"offset\": 0,\n",
    "  \"network\": \"ethereum\",\n",
    "  \"from\": \"2021-01-01\",\n",
    "  \"till\": \"2022-05-24T23:59:59\",\n",
    "  \"dateFormat\": \"%Y-%m\"\n",
    "}\n",
    "query1 = \"\"\"\n",
    "query ($network: EthereumNetwork!, $dateFormat: String!, $from: ISO8601DateTime, $till: ISO8601DateTime) {\n",
    "  ethereum(network: $network) {\n",
    "    dexTrades(options: {asc: \"date.date\"}, date: {since: $from, till: $till}) {\n",
    "      date: date {\n",
    "        date(format: $dateFormat)\n",
    "      }\n",
    "      trades: countBigInt\n",
    "      traders: countBigInt(uniq: takers)\n",
    "      contracts: countBigInt(uniq: smart_contracts)\n",
    "      currencies: countBigInt(uniq: buy_currency)\n",
    "    }\n",
    "  }\n",
    "}\n",
    "\"\"\"\n",
    "\n",
    "if not LOAD_FROM_FILE:\n",
    "    result1 = run_query(query1)  # Execute the query\n",
    "    write_json_to_file(result1, os.path.join(QUERIES_DIR, 'query4.json'))\n",
    "else:\n",
    "    result1 = load_json_from_file(os.path.join(QUERIES_DIR, 'query4.json'))\n",
    "\n",
    "print('Result - {}'.format(result1))"
   ]
  },
  {
   "cell_type": "code",
   "execution_count": 41,
   "id": "89a48539",
   "metadata": {
    "pycharm": {
     "name": "#%%\n"
    }
   },
   "outputs": [
    {
     "data": {
      "text/html": [
       "<div>\n",
       "<style scoped>\n",
       "    .dataframe tbody tr th:only-of-type {\n",
       "        vertical-align: middle;\n",
       "    }\n",
       "\n",
       "    .dataframe tbody tr th {\n",
       "        vertical-align: top;\n",
       "    }\n",
       "\n",
       "    .dataframe thead th {\n",
       "        text-align: right;\n",
       "    }\n",
       "</style>\n",
       "<table border=\"1\" class=\"dataframe\">\n",
       "  <thead>\n",
       "    <tr style=\"text-align: right;\">\n",
       "      <th></th>\n",
       "      <th>trades</th>\n",
       "      <th>traders</th>\n",
       "      <th>contracts</th>\n",
       "      <th>currencies</th>\n",
       "      <th>date.date</th>\n",
       "    </tr>\n",
       "  </thead>\n",
       "  <tbody>\n",
       "    <tr>\n",
       "      <th>0</th>\n",
       "      <td>5178531</td>\n",
       "      <td>299035</td>\n",
       "      <td>8845</td>\n",
       "      <td>4976</td>\n",
       "      <td>2021-01</td>\n",
       "    </tr>\n",
       "    <tr>\n",
       "      <th>1</th>\n",
       "      <td>5095820</td>\n",
       "      <td>347426</td>\n",
       "      <td>7370</td>\n",
       "      <td>3857</td>\n",
       "      <td>2021-02</td>\n",
       "    </tr>\n",
       "    <tr>\n",
       "      <th>2</th>\n",
       "      <td>5900288</td>\n",
       "      <td>456066</td>\n",
       "      <td>8283</td>\n",
       "      <td>4467</td>\n",
       "      <td>2021-03</td>\n",
       "    </tr>\n",
       "    <tr>\n",
       "      <th>3</th>\n",
       "      <td>6140761</td>\n",
       "      <td>577350</td>\n",
       "      <td>10491</td>\n",
       "      <td>5695</td>\n",
       "      <td>2021-04</td>\n",
       "    </tr>\n",
       "    <tr>\n",
       "      <th>4</th>\n",
       "      <td>7878549</td>\n",
       "      <td>875727</td>\n",
       "      <td>14262</td>\n",
       "      <td>7843</td>\n",
       "      <td>2021-05</td>\n",
       "    </tr>\n",
       "    <tr>\n",
       "      <th>5</th>\n",
       "      <td>6781814</td>\n",
       "      <td>563194</td>\n",
       "      <td>17990</td>\n",
       "      <td>9902</td>\n",
       "      <td>2021-06</td>\n",
       "    </tr>\n",
       "    <tr>\n",
       "      <th>6</th>\n",
       "      <td>5984810</td>\n",
       "      <td>492503</td>\n",
       "      <td>15157</td>\n",
       "      <td>8687</td>\n",
       "      <td>2021-07</td>\n",
       "    </tr>\n",
       "    <tr>\n",
       "      <th>7</th>\n",
       "      <td>4797165</td>\n",
       "      <td>438673</td>\n",
       "      <td>11957</td>\n",
       "      <td>6726</td>\n",
       "      <td>2021-08</td>\n",
       "    </tr>\n",
       "    <tr>\n",
       "      <th>8</th>\n",
       "      <td>3821140</td>\n",
       "      <td>396659</td>\n",
       "      <td>10554</td>\n",
       "      <td>5864</td>\n",
       "      <td>2021-09</td>\n",
       "    </tr>\n",
       "    <tr>\n",
       "      <th>9</th>\n",
       "      <td>4974685</td>\n",
       "      <td>617230</td>\n",
       "      <td>11314</td>\n",
       "      <td>6494</td>\n",
       "      <td>2021-10</td>\n",
       "    </tr>\n",
       "    <tr>\n",
       "      <th>10</th>\n",
       "      <td>5574726</td>\n",
       "      <td>688268</td>\n",
       "      <td>12872</td>\n",
       "      <td>7676</td>\n",
       "      <td>2021-11</td>\n",
       "    </tr>\n",
       "    <tr>\n",
       "      <th>11</th>\n",
       "      <td>4425260</td>\n",
       "      <td>487136</td>\n",
       "      <td>13136</td>\n",
       "      <td>7944</td>\n",
       "      <td>2021-12</td>\n",
       "    </tr>\n",
       "    <tr>\n",
       "      <th>12</th>\n",
       "      <td>3464039</td>\n",
       "      <td>378199</td>\n",
       "      <td>10308</td>\n",
       "      <td>5943</td>\n",
       "      <td>2022-01</td>\n",
       "    </tr>\n",
       "    <tr>\n",
       "      <th>13</th>\n",
       "      <td>2960884</td>\n",
       "      <td>323760</td>\n",
       "      <td>11797</td>\n",
       "      <td>7110</td>\n",
       "      <td>2022-02</td>\n",
       "    </tr>\n",
       "    <tr>\n",
       "      <th>14</th>\n",
       "      <td>3727333</td>\n",
       "      <td>338680</td>\n",
       "      <td>14863</td>\n",
       "      <td>9473</td>\n",
       "      <td>2022-03</td>\n",
       "    </tr>\n",
       "    <tr>\n",
       "      <th>15</th>\n",
       "      <td>3568307</td>\n",
       "      <td>309185</td>\n",
       "      <td>14302</td>\n",
       "      <td>9435</td>\n",
       "      <td>2022-04</td>\n",
       "    </tr>\n",
       "    <tr>\n",
       "      <th>16</th>\n",
       "      <td>2660449</td>\n",
       "      <td>234609</td>\n",
       "      <td>12771</td>\n",
       "      <td>7609</td>\n",
       "      <td>2022-05</td>\n",
       "    </tr>\n",
       "  </tbody>\n",
       "</table>\n",
       "</div>"
      ],
      "text/plain": [
       "     trades traders contracts currencies date.date\n",
       "0   5178531  299035      8845       4976   2021-01\n",
       "1   5095820  347426      7370       3857   2021-02\n",
       "2   5900288  456066      8283       4467   2021-03\n",
       "3   6140761  577350     10491       5695   2021-04\n",
       "4   7878549  875727     14262       7843   2021-05\n",
       "5   6781814  563194     17990       9902   2021-06\n",
       "6   5984810  492503     15157       8687   2021-07\n",
       "7   4797165  438673     11957       6726   2021-08\n",
       "8   3821140  396659     10554       5864   2021-09\n",
       "9   4974685  617230     11314       6494   2021-10\n",
       "10  5574726  688268     12872       7676   2021-11\n",
       "11  4425260  487136     13136       7944   2021-12\n",
       "12  3464039  378199     10308       5943   2022-01\n",
       "13  2960884  323760     11797       7110   2022-02\n",
       "14  3727333  338680     14863       9473   2022-03\n",
       "15  3568307  309185     14302       9435   2022-04\n",
       "16  2660449  234609     12771       7609   2022-05"
      ]
     },
     "execution_count": 41,
     "metadata": {},
     "output_type": "execute_result"
    }
   ],
   "source": [
    "# Convert the result to a dataframe\n",
    "df1 = pd.json_normalize(result['data']['ethereum']['dexTrades'])\n",
    "df1.head(17)"
   ]
  },
  {
   "cell_type": "code",
   "execution_count": 111,
   "id": "b4031a14",
   "metadata": {
    "pycharm": {
     "name": "#%%\n"
    }
   },
   "outputs": [
    {
     "data": {
      "image/png": "[encoded data removed]",
      "text/plain": [
       "<Figure size 504x360 with 1 Axes>"
      ]
     },
     "metadata": {
      "needs_background": "light"
     },
     "output_type": "display_data"
    }
   ],
   "source": [
    "\n",
    "import matplotlib.pyplot as plt\n",
    "\n",
    "trades = df1[\"trades\"]\n",
    "date = df1[\"date.date\"]\n",
    "\n",
    "fig = plt.figure(figsize = (7, 5))\n",
    "plt.bar(date, trades, color ='green',\n",
    "        width = 0.6, label = \"Trades count\")\n",
    "\n",
    "plt.xticks(rotation=60)\n",
    "plt.xlabel(\"Months\")\n",
    "plt.ylabel(\"Trade count\")\n",
    "plt.title(\"DEX trades in ethereum chain\")\n",
    "plt.legend(loc= \"upper center\")\n",
    "plt.show()"
   ]
  },
  {
   "cell_type": "code",
   "execution_count": null,
   "id": "f4b10551",
   "metadata": {
    "pycharm": {
     "name": "#%%\n"
    }
   },
   "outputs": [],
   "source": []
  }
 ],
 "metadata": {
  "kernelspec": {
   "display_name": "Python 3 (ipykernel)",
   "language": "python",
   "name": "python3"
  },
  "language_info": {
   "codemirror_mode": {
    "name": "ipython",
    "version": 3
   },
   "file_extension": ".py",
   "mimetype": "text/x-python",
   "name": "python",
   "nbconvert_exporter": "python",
   "pygments_lexer": "ipython3",
   "version": "3.10.4"
  }
 },
 "nbformat": 4,
 "nbformat_minor": 5
}