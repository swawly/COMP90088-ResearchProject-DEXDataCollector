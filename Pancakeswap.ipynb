{
 "cells": [
  {
   "cell_type": "code",
   "execution_count": 5,
   "id": "1379e5bc",
   "metadata": {
    "pycharm": {
     "name": "#%%\n"
    }
   },
   "outputs": [],
   "source": [
    "import requests\n",
    "import pandas as pd\n",
    "import yaml\n",
    "\n",
    "\n",
    "def run_query(query):  # A simple function to use requests.post to make the API call.\n",
    "    headers = {'X-API-KEY': 'BQYz1346Js0w2ccp4fytxBHdFmkTbhsm'}\n",
    "    request = requests.post('https://graphql.bitquery.io/',\n",
    "                            json={'query': query}, headers=headers)\n",
    "    if request.status_code == 200:\n",
    "        return request.json()\n",
    "    else:\n",
    "        raise Exception('Query failed and return code is {}.      {}'.format(request.status_code,\n",
    "                        query))"
   ]
  },
  {
   "cell_type": "markdown",
   "id": "594f49ae",
   "metadata": {
    "pycharm": {
     "name": "#%% md\n"
    }
   },
   "source": [
    "#### This query returns the total trade volumes and trades on Pancakeswap"
   ]
  },
  {
   "cell_type": "code",
   "execution_count": 39,
   "id": "946cfae3",
   "metadata": {
    "pycharm": {
     "name": "#%%\n"
    }
   },
   "outputs": [
    {
     "name": "stdout",
     "output_type": "stream",
     "text": [
      "Result - {'data': {'ethereum': {'dexTrades': None}}, 'errors': [{'message': 'ActiveRecord::ActiveRecordError: Response code: 500:\\nCode: 241, e.displayText() = DB::Exception: Memory limit (for query) exceeded: would use 30.93 GiB (attempt to allocate chunk of 2147484176 bytes), maximum: 29.80 GiB (version 20.8.11.17 (official build))\\n', 'locations': [{'line': 4, 'column': 5}], 'path': ['ethereum', 'dexTrades'], 'error_type': 'server'}]}\n"
     ]
    }
   ],
   "source": [
    "query = \"\"\"\n",
    "{\n",
    "  ethereum(network: bsc) {\n",
    "    dexTrades(\n",
    "      exchangeName: {in: [\"Pancake v2\"]}\n",
    "      time: {since: \"2022-01-01\"}\n",
    "    ) {\n",
    "      count\n",
    "      tradeAmount(in: USD)\n",
    "    }\n",
    "  }\n",
    "}\n",
    "\"\"\"\n",
    "result = run_query(query)  # Execute the query\n",
    "print ('Result - {}'.format(result))"
   ]
  },
  {
   "cell_type": "code",
   "execution_count": 36,
   "id": "608d9fe4",
   "metadata": {
    "pycharm": {
     "name": "#%%\n"
    }
   },
   "outputs": [
    {
     "name": "stdout",
     "output_type": "stream",
     "text": [
      "     count   tradeAmount\n",
      "0  1464450  6.852427e+08\n"
     ]
    }
   ],
   "source": [
    "# Convert the result to a dataframe\n",
    "df = pd.json_normalize(result['data']['ethereum']['dexTrades'])\n",
    "print(df)"
   ]
  },
  {
   "cell_type": "markdown",
   "id": "8fa10229",
   "metadata": {
    "pycharm": {
     "name": "#%% md\n"
    }
   },
   "source": [
    "#### This query returns the top most exchanged tokens on Pancakeswap this year"
   ]
  },
  {
   "cell_type": "code",
   "execution_count": 22,
   "id": "75ae7336",
   "metadata": {
    "pycharm": {
     "name": "#%%\n"
    }
   },
   "outputs": [
    {
     "name": "stdout",
     "output_type": "stream",
     "text": [
      "Result - {'data': {'ethereum': {'dexTrades': [{'baseCurrency': {'address': '0x23396cf899ca06c4472205fc903bdb4de249d6fc', 'decimals': 18, 'name': 'Wrapped UST Token', 'symbol': 'UST', 'tokenId': '', 'tokenType': 'ERC20'}, 'buyAmount': 233010514.8295463, 'tradeAmount': 467645748.5565017}, {'baseCurrency': {'address': '0xe9e7cea3dedca5984780bafc599bd69add087d56', 'decimals': 18, 'name': 'BUSD Token', 'symbol': 'BUSD', 'tokenId': '', 'tokenType': 'ERC20'}, 'buyAmount': 233010514.82954678, 'tradeAmount': 467645748.55649763}]}}}\n"
     ]
    }
   ],
   "source": [
    "query = \"\"\"\n",
    "{\n",
    "\n",
    "  ethereum(network: bsc) {\n",
    "    dexTrades(\n",
    "      smartContractAddress: {is: \"0x05faf555522Fa3F93959F86B41A3808666093210\"}\n",
    "      time: {since: \"2022-01-01\"}\n",
    "    ) {\n",
    "      baseCurrency {\n",
    "        address\n",
    "        decimals\n",
    "        name\n",
    "        symbol\n",
    "        tokenId\n",
    "        tokenType\n",
    "      }\n",
    "      buyAmount(in: USD)\n",
    "      tradeAmount(in: USD)\n",
    "    }\n",
    "  }\n",
    "\n",
    "}\n",
    "\"\"\"\n",
    "result = run_query(query)  # Execute the query\n",
    "print ('Result - {}'.format(result))"
   ]
  },
  {
   "cell_type": "code",
   "execution_count": 23,
   "id": "6888f0e3",
   "metadata": {
    "pycharm": {
     "name": "#%%\n"
    }
   },
   "outputs": [
    {
     "name": "stdout",
     "output_type": "stream",
     "text": [
      "      buyAmount   tradeAmount                        baseCurrency.address  \\\n",
      "0  2.330105e+08  4.676457e+08  0x23396cf899ca06c4472205fc903bdb4de249d6fc   \n",
      "1  2.330105e+08  4.676457e+08  0xe9e7cea3dedca5984780bafc599bd69add087d56   \n",
      "\n",
      "   baseCurrency.decimals  baseCurrency.name baseCurrency.symbol  \\\n",
      "0                     18  Wrapped UST Token                 UST   \n",
      "1                     18         BUSD Token                BUSD   \n",
      "\n",
      "  baseCurrency.tokenId baseCurrency.tokenType  \n",
      "0                                       ERC20  \n",
      "1                                       ERC20  \n"
     ]
    }
   ],
   "source": [
    "# Convert the result to a dataframe\n",
    "df = pd.json_normalize(result['data']['ethereum']['dexTrades'])\n",
    "print(df)"
   ]
  },
  {
   "cell_type": "markdown",
   "id": "dd2e32db",
   "metadata": {
    "pycharm": {
     "name": "#%% md\n"
    }
   },
   "source": [
    "#### Total DCIP (Decentralized community investment protocol) trade volume"
   ]
  },
  {
   "cell_type": "code",
   "execution_count": 24,
   "id": "5302a0a9",
   "metadata": {
    "pycharm": {
     "name": "#%%\n"
    }
   },
   "outputs": [
    {
     "name": "stdout",
     "output_type": "stream",
     "text": [
      "Result - {'data': {'ethereum': {'dexTrades': [{'count': 53472, 'tradeAmount': 16872882.11736385}]}}}\n"
     ]
    }
   ],
   "source": [
    "query = \"\"\"\n",
    "{\n",
    "   ethereum (network: bsc){\n",
    "    dexTrades( options: {desc: \"count\"},\n",
    "      smartContractAddress: \n",
    "      {is:\"0x4799b0d36b421df620dafebde3ba19c2c2c2fc5c\"},\n",
    "      date: {since:\"2020-12-12\", till: \"2022-12-12\"}\n",
    "    ) {\n",
    "      count\n",
    "      tradeAmount(in:USD)\n",
    "    }\n",
    "  }\n",
    "}\n",
    "\"\"\"\n",
    "result = run_query(query)  # Execute the query\n",
    "print ('Result - {}'.format(result))"
   ]
  },
  {
   "cell_type": "code",
   "execution_count": 25,
   "id": "96634b09",
   "metadata": {
    "pycharm": {
     "name": "#%%\n"
    }
   },
   "outputs": [
    {
     "name": "stdout",
     "output_type": "stream",
     "text": [
      "   count   tradeAmount\n",
      "0  53472  1.687288e+07\n"
     ]
    }
   ],
   "source": [
    "# Convert the result to a dataframe\n",
    "df = pd.json_normalize(result['data']['ethereum']['dexTrades'])\n",
    "print(df)"
   ]
  },
  {
   "cell_type": "markdown",
   "id": "3aa7b7c3",
   "metadata": {
    "pycharm": {
     "name": "#%% md\n"
    }
   },
   "source": [
    "#### Trade amount between BNB and USDT in the last 7 days"
   ]
  },
  {
   "cell_type": "code",
   "execution_count": 30,
   "id": "7fcb8531",
   "metadata": {
    "pycharm": {
     "name": "#%%\n"
    }
   },
   "outputs": [
    {
     "name": "stdout",
     "output_type": "stream",
     "text": [
      "Result - {'data': {'ethereum': {'dexTrades': [{'count': 17749, 'tradeAmount': 12890932.539569177, 'date': {'date': '2022-05-17'}}, {'count': 84672, 'tradeAmount': 49344692.942646265, 'date': {'date': '2022-05-16'}}, {'count': 89041, 'tradeAmount': 47089693.832172155, 'date': {'date': '2022-05-15'}}, {'count': 110776, 'tradeAmount': 60058548.065879814, 'date': {'date': '2022-05-14'}}, {'count': 121675, 'tradeAmount': 81626206.475333, 'date': {'date': '2022-05-13'}}, {'count': 136554, 'tradeAmount': 183108344.44585732, 'date': {'date': '2022-05-12'}}, {'count': 117552, 'tradeAmount': 196939411.05205688, 'date': {'date': '2022-05-11'}}, {'count': 102100, 'tradeAmount': 123439638.34973899, 'date': {'date': '2022-05-10'}}, {'count': 111592, 'tradeAmount': 139763224.12998426, 'date': {'date': '2022-05-09'}}, {'count': 108292, 'tradeAmount': 73009793.21477877, 'date': {'date': '2022-05-08'}}]}}}\n"
     ]
    }
   ],
   "source": [
    "query = \"\"\"\n",
    "{\n",
    "ethereum (network: bsc){\n",
    "dexTrades(options: {limit :10,desc: \"date.date\"},\n",
    "exchangeName: {is: \"Pancake v2\"} \n",
    "baseCurrency: {is: \"0xbb4cdb9cbd36b01bd1cbaebf2de08d9173bc095c\"}\n",
    "quoteCurrency: {is: \"0x55d398326f99059ff775485246999027b3197955\"}\n",
    "){\n",
    "count\n",
    "tradeAmount(in:USD)\n",
    "date{\n",
    "date(format: \"%Y-%m-%d\")\n",
    "}}\n",
    "}}\n",
    "\n",
    "\n",
    "\n",
    "\n",
    "\n",
    "\n",
    "\"\"\"\n",
    "result = run_query(query)  # Execute the query\n",
    "print ('Result - {}'.format(result))\n"
   ]
  },
  {
   "cell_type": "code",
   "execution_count": 31,
   "id": "584a76da",
   "metadata": {
    "pycharm": {
     "name": "#%%\n"
    }
   },
   "outputs": [
    {
     "name": "stdout",
     "output_type": "stream",
     "text": [
      "    count   tradeAmount   date.date\n",
      "0   17749  1.289093e+07  2022-05-17\n",
      "1   84672  4.934469e+07  2022-05-16\n",
      "2   89041  4.708969e+07  2022-05-15\n",
      "3  110776  6.005855e+07  2022-05-14\n",
      "4  121675  8.162621e+07  2022-05-13\n",
      "5  136554  1.831083e+08  2022-05-12\n",
      "6  117552  1.969394e+08  2022-05-11\n",
      "7  102100  1.234396e+08  2022-05-10\n",
      "8  111592  1.397632e+08  2022-05-09\n",
      "9  108292  7.300979e+07  2022-05-08\n"
     ]
    }
   ],
   "source": [
    "# Convert the result to a dataframe\n",
    "df = pd.json_normalize(result['data']['ethereum']['dexTrades'])\n",
    "print(df)"
   ]
  },
  {
   "cell_type": "code",
   "execution_count": null,
   "id": "c4605d28",
   "metadata": {
    "pycharm": {
     "name": "#%%\n"
    }
   },
   "outputs": [],
   "source": []
  }
 ],
 "metadata": {
  "kernelspec": {
   "display_name": "Python 3 (ipykernel)",
   "language": "python",
   "name": "python3"
  },
  "language_info": {
   "codemirror_mode": {
    "name": "ipython",
    "version": 3
   },
   "file_extension": ".py",
   "mimetype": "text/x-python",
   "name": "python",
   "nbconvert_exporter": "python",
   "pygments_lexer": "ipython3",
   "version": "3.10.4"
  }
 },
 "nbformat": 4,
 "nbformat_minor": 5
}