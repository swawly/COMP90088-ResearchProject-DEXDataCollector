{
 "cells": [
  {
   "cell_type": "code",
   "execution_count": 16,
   "id": "56eb7695",
   "metadata": {
    "pycharm": {
     "name": "#%%\n"
    }
   },
   "outputs": [],
   "source": [
    "import requests\n",
    "import yaml\n",
    "import json\n",
    "import pandas as pd\n",
    "import os\n",
    "\n",
    "RESULTS_DIR = os.path.join(os.getcwd(), 'results')\n",
    "QUERIES_DIR = os.path.join(os.getcwd(), 'queries')\n",
    "\n",
    "##############################################################################################################################\n",
    "# Toggle the below boolean to change whether the program fetches queries (false) or loads pre-fetched data (true)\n",
    "LOAD_FROM_FILE = True\n",
    "##############################################################################################################################\n",
    "\n",
    "with open('api.yaml', 'r') as f:\n",
    "    parsed_yaml = yaml.load(f, Loader=yaml.FullLoader)\n",
    "    API_KEY = parsed_yaml['api']\n",
    "\n",
    "def run_query(query):  # A simple function to use requests.post to make the API call.\n",
    "    headers = {'X-API-KEY': 'API_KEY'}\n",
    "    request = requests.post('https://graphql.bitquery.io/', json={'query': query, 'variables': variables},\n",
    "                            headers=headers)\n",
    "    if request.status_code == 200:\n",
    "        return request.json()\n",
    "    else:\n",
    "        raise Exception('Query failed and return code is {}.      {}'.format(request.status_code, query))\n",
    "\n",
    "\n",
    "def write_json_to_file(json_obj, file):\n",
    "    with open(file, 'w') as f_out:\n",
    "        json.dump(json_obj, f_out)\n",
    "\n",
    "\n",
    "def load_json_from_file(file):\n",
    "    with open(file, 'r') as f_in:\n",
    "        json_obj = json.load(f_in)\n",
    "    return json_obj"
   ]
  },
  {
   "cell_type": "markdown",
   "id": "1e28c93f",
   "metadata": {},
   "source": [
    "#### This query returns the average transaction cost in ethereum chain"
   ]
  },
  {
   "cell_type": "code",
   "execution_count": 17,
   "id": "191504c2",
   "metadata": {},
   "outputs": [
    {
     "name": "stdout",
     "output_type": "stream",
     "text": [
      "Result - {'data': {'ethereum': {'transactions': [{'date': {'date': '2021-01'}, 'gasPrice': 113.37837972829477, 'gasValue': 273504.330600192, 'average': 0.007295246170121541, 'maxGasPrice': 852470.343401472, 'medianGasPrice': 88.000004096}, {'date': {'date': '2021-02'}, 'gasPrice': 191.68044239538315, 'gasValue': 423959.58427347674, 'average': 0.011916168293064184, 'maxGasPrice': 500801.004896256, 'medianGasPrice': 166.999998464}, {'date': {'date': '2021-03'}, 'gasPrice': 152.28162850896584, 'gasValue': 373341.95806983806, 'average': 0.009515187942577288, 'maxGasPrice': 448763.919335424, 'medianGasPrice': 140.999999488}, {'date': {'date': '2021-04'}, 'gasPrice': 128.30930618853526, 'gasValue': 316327.2357673402, 'average': 0.007575570363848731, 'maxGasPrice': 122448.980738048, 'medianGasPrice': 117.000003584}, {'date': {'date': '2021-05'}, 'gasPrice': 109.20976944895581, 'gasValue': 309860.0435405652, 'average': 0.006877366656112876, 'maxGasPrice': 217523.031113728, 'medianGasPrice': 69.631926272}, {'date': {'date': '2021-06'}, 'gasPrice': 27.207982329419927, 'gasValue': 71927.59508751822, 'average': 0.001987049163652195, 'maxGasPrice': 163438.454112256, 'medianGasPrice': 20.0}, {'date': {'date': '2021-07'}, 'gasPrice': 32.68874734007232, 'gasValue': 93870.2317893631, 'average': 0.002505221849146548, 'maxGasPrice': 113507.185983488, 'medianGasPrice': 25.999998976}, {'date': {'date': '2021-08'}, 'gasPrice': 67.03027950061026, 'gasValue': 219391.3598948852, 'average': 0.005889629786885398, 'maxGasPrice': 300000.009519104, 'medianGasPrice': 51.999997952}, {'date': {'date': '2021-09'}, 'gasPrice': 103.5547818146074, 'gasValue': 316734.87503512786, 'average': 0.00889455033128279, 'maxGasPrice': 53243670.18642637, 'medianGasPrice': 80.073179136}, {'date': {'date': '2021-10'}, 'gasPrice': 118.20925899070006, 'gasValue': 353364.3297844513, 'average': 0.009074713147185293, 'maxGasPrice': 1442244.246634496, 'medianGasPrice': 99.814285312}, {'date': {'date': '2021-11'}, 'gasPrice': 142.2702885260063, 'gasValue': 410833.74010494445, 'average': 0.010555302031424171, 'maxGasPrice': 524496.272359424, 'medianGasPrice': 129.518534656}, {'date': {'date': '2021-12'}, 'gasPrice': 94.54525927923021, 'gasValue': 283583.0198602688, 'average': 0.007404169399061076, 'maxGasPrice': 153441.431191552, 'medianGasPrice': 82.988351488}, {'date': {'date': '2022-01'}, 'gasPrice': 146.05016760722913, 'gasValue': 440799.62296446186, 'average': 0.01196163175695631, 'maxGasPrice': 137270.778658816, 'medianGasPrice': 126.402707456}, {'date': {'date': '2022-02'}, 'gasPrice': 90.95188932534003, 'gasValue': 250010.26941174013, 'average': 0.007636359914219104, 'maxGasPrice': 153465.355501568, 'medianGasPrice': 71.633321984}, {'date': {'date': '2022-03'}, 'gasPrice': 47.99690797006451, 'gasValue': 145428.7007711529, 'average': 0.00404076512906496, 'maxGasPrice': 729541.936939008, 'medianGasPrice': 36.221698048}, {'date': {'date': '2022-04'}, 'gasPrice': 54.845920824045805, 'gasValue': 163390.2845458676, 'average': 0.004862868465540959, 'maxGasPrice': 74285.712408576, 'medianGasPrice': 44.368556032}, {'date': {'date': '2022-05'}, 'gasPrice': 75.79416080459711, 'gasValue': 206146.42700185234, 'average': 0.007539564270435392, 'maxGasPrice': 131450.28427776, 'medianGasPrice': 38.0652544}]}}}\n"
     ]
    }
   ],
   "source": [
    "variables = {\n",
    "  \"limit\": 10,\n",
    "  \"offset\": 0,\n",
    "  \"network\": \"ethereum\",\n",
    "  \"from\": \"2021-01-01\",\n",
    "  \"till\": \"2022-05-24T23:59:59\",\n",
    "  \"dateFormat\": \"%Y-%m\"\n",
    "}\n",
    "\n",
    "query1 = \"\"\"\n",
    "query ($network: EthereumNetwork!, $dateFormat: String!, $from: ISO8601DateTime, $till: ISO8601DateTime) {\n",
    "  ethereum(network: $network) {\n",
    "    transactions(options: {asc: \"date.date\"}, date: {since: $from, till: $till}) {\n",
    "      date: date {\n",
    "        date(format: $dateFormat)\n",
    "      }\n",
    "      gasPrice\n",
    "      gasValue\n",
    "      average: gasValue(calculate: average)\n",
    "      maxGasPrice: gasPrice(calculate: maximum)\n",
    "      medianGasPrice: gasPrice(calculate: median)\n",
    "    }\n",
    "  }\n",
    "}\n",
    "\n",
    "\n",
    "\"\"\"\n",
    "if not LOAD_FROM_FILE:\n",
    "    result1 = run_query(query1)  # Execute the query\n",
    "    write_json_to_file(result1, os.path.join(QUERIES_DIR, 'query6.json'))\n",
    "else:\n",
    "    result1 = load_json_from_file(os.path.join(QUERIES_DIR, 'query6.json'))\n",
    "\n",
    "print('Result - {}'.format(result1))\n"
   ]
  },
  {
   "cell_type": "code",
   "execution_count": 18,
   "id": "94c7af6f",
   "metadata": {},
   "outputs": [
    {
     "data": {
      "text/plain": "      gasPrice       gasValue   average   maxGasPrice  medianGasPrice  \\\n0   113.378380  273504.330600  0.007295  8.524703e+05       88.000004   \n1   191.680442  423959.584273  0.011916  5.008010e+05      166.999998   \n2   152.281629  373341.958070  0.009515  4.487639e+05      140.999999   \n3   128.309306  316327.235767  0.007576  1.224490e+05      117.000004   \n4   109.209769  309860.043541  0.006877  2.175230e+05       69.631926   \n5    27.207982   71927.595088  0.001987  1.634385e+05       20.000000   \n6    32.688747   93870.231789  0.002505  1.135072e+05       25.999999   \n7    67.030280  219391.359895  0.005890  3.000000e+05       51.999998   \n8   103.554782  316734.875035  0.008895  5.324367e+07       80.073179   \n9   118.209259  353364.329784  0.009075  1.442244e+06       99.814285   \n10  142.270289  410833.740105  0.010555  5.244963e+05      129.518535   \n11   94.545259  283583.019860  0.007404  1.534414e+05       82.988351   \n12  146.050168  440799.622964  0.011962  1.372708e+05      126.402707   \n13   90.951889  250010.269412  0.007636  1.534654e+05       71.633322   \n14   47.996908  145428.700771  0.004041  7.295419e+05       36.221698   \n15   54.845921  163390.284546  0.004863  7.428571e+04       44.368556   \n16   75.794161  206146.427002  0.007540  1.314503e+05       38.065254   \n\n   date.date  \n0    2021-01  \n1    2021-02  \n2    2021-03  \n3    2021-04  \n4    2021-05  \n5    2021-06  \n6    2021-07  \n7    2021-08  \n8    2021-09  \n9    2021-10  \n10   2021-11  \n11   2021-12  \n12   2022-01  \n13   2022-02  \n14   2022-03  \n15   2022-04  \n16   2022-05  ",
      "text/html": "<div>\n<style scoped>\n    .dataframe tbody tr th:only-of-type {\n        vertical-align: middle;\n    }\n\n    .dataframe tbody tr th {\n        vertical-align: top;\n    }\n\n    .dataframe thead th {\n        text-align: right;\n    }\n</style>\n<table border=\"1\" class=\"dataframe\">\n  <thead>\n    <tr style=\"text-align: right;\">\n      <th></th>\n      <th>gasPrice</th>\n      <th>gasValue</th>\n      <th>average</th>\n      <th>maxGasPrice</th>\n      <th>medianGasPrice</th>\n      <th>date.date</th>\n    </tr>\n  </thead>\n  <tbody>\n    <tr>\n      <th>0</th>\n      <td>113.378380</td>\n      <td>273504.330600</td>\n      <td>0.007295</td>\n      <td>8.524703e+05</td>\n      <td>88.000004</td>\n      <td>2021-01</td>\n    </tr>\n    <tr>\n      <th>1</th>\n      <td>191.680442</td>\n      <td>423959.584273</td>\n      <td>0.011916</td>\n      <td>5.008010e+05</td>\n      <td>166.999998</td>\n      <td>2021-02</td>\n    </tr>\n    <tr>\n      <th>2</th>\n      <td>152.281629</td>\n      <td>373341.958070</td>\n      <td>0.009515</td>\n      <td>4.487639e+05</td>\n      <td>140.999999</td>\n      <td>2021-03</td>\n    </tr>\n    <tr>\n      <th>3</th>\n      <td>128.309306</td>\n      <td>316327.235767</td>\n      <td>0.007576</td>\n      <td>1.224490e+05</td>\n      <td>117.000004</td>\n      <td>2021-04</td>\n    </tr>\n    <tr>\n      <th>4</th>\n      <td>109.209769</td>\n      <td>309860.043541</td>\n      <td>0.006877</td>\n      <td>2.175230e+05</td>\n      <td>69.631926</td>\n      <td>2021-05</td>\n    </tr>\n    <tr>\n      <th>5</th>\n      <td>27.207982</td>\n      <td>71927.595088</td>\n      <td>0.001987</td>\n      <td>1.634385e+05</td>\n      <td>20.000000</td>\n      <td>2021-06</td>\n    </tr>\n    <tr>\n      <th>6</th>\n      <td>32.688747</td>\n      <td>93870.231789</td>\n      <td>0.002505</td>\n      <td>1.135072e+05</td>\n      <td>25.999999</td>\n      <td>2021-07</td>\n    </tr>\n    <tr>\n      <th>7</th>\n      <td>67.030280</td>\n      <td>219391.359895</td>\n      <td>0.005890</td>\n      <td>3.000000e+05</td>\n      <td>51.999998</td>\n      <td>2021-08</td>\n    </tr>\n    <tr>\n      <th>8</th>\n      <td>103.554782</td>\n      <td>316734.875035</td>\n      <td>0.008895</td>\n      <td>5.324367e+07</td>\n      <td>80.073179</td>\n      <td>2021-09</td>\n    </tr>\n    <tr>\n      <th>9</th>\n      <td>118.209259</td>\n      <td>353364.329784</td>\n      <td>0.009075</td>\n      <td>1.442244e+06</td>\n      <td>99.814285</td>\n      <td>2021-10</td>\n    </tr>\n    <tr>\n      <th>10</th>\n      <td>142.270289</td>\n      <td>410833.740105</td>\n      <td>0.010555</td>\n      <td>5.244963e+05</td>\n      <td>129.518535</td>\n      <td>2021-11</td>\n    </tr>\n    <tr>\n      <th>11</th>\n      <td>94.545259</td>\n      <td>283583.019860</td>\n      <td>0.007404</td>\n      <td>1.534414e+05</td>\n      <td>82.988351</td>\n      <td>2021-12</td>\n    </tr>\n    <tr>\n      <th>12</th>\n      <td>146.050168</td>\n      <td>440799.622964</td>\n      <td>0.011962</td>\n      <td>1.372708e+05</td>\n      <td>126.402707</td>\n      <td>2022-01</td>\n    </tr>\n    <tr>\n      <th>13</th>\n      <td>90.951889</td>\n      <td>250010.269412</td>\n      <td>0.007636</td>\n      <td>1.534654e+05</td>\n      <td>71.633322</td>\n      <td>2022-02</td>\n    </tr>\n    <tr>\n      <th>14</th>\n      <td>47.996908</td>\n      <td>145428.700771</td>\n      <td>0.004041</td>\n      <td>7.295419e+05</td>\n      <td>36.221698</td>\n      <td>2022-03</td>\n    </tr>\n    <tr>\n      <th>15</th>\n      <td>54.845921</td>\n      <td>163390.284546</td>\n      <td>0.004863</td>\n      <td>7.428571e+04</td>\n      <td>44.368556</td>\n      <td>2022-04</td>\n    </tr>\n    <tr>\n      <th>16</th>\n      <td>75.794161</td>\n      <td>206146.427002</td>\n      <td>0.007540</td>\n      <td>1.314503e+05</td>\n      <td>38.065254</td>\n      <td>2022-05</td>\n    </tr>\n  </tbody>\n</table>\n</div>"
     },
     "execution_count": 18,
     "metadata": {},
     "output_type": "execute_result"
    }
   ],
   "source": [
    "# Convert the result to a dataframe\n",
    "df1 = pd.json_normalize(result1['data']['ethereum']['transactions'])\n",
    "df1.head(17)\n"
   ]
  },
  {
   "cell_type": "code",
   "execution_count": 19,
   "id": "660cd25c",
   "metadata": {},
   "outputs": [
    {
     "data": {
      "text/plain": "<Figure size 504x360 with 1 Axes>",
      "image/png": "[encoded data removed]"
     },
     "metadata": {
      "needs_background": "light"
     },
     "output_type": "display_data"
    }
   ],
   "source": [
    "import matplotlib.pyplot as plt\n",
    "\n",
    "cost = df1[\"average\"]\n",
    "date = df1[\"date.date\"]\n",
    "\n",
    "fig = plt.figure(figsize = (7, 5))\n",
    "plt.bar(date, cost, color ='yellow',\n",
    "        width = 0.6, label = \"Trades count\")\n",
    "\n",
    "plt.xticks(rotation=60)\n",
    "plt.xlabel(\"Months\")\n",
    "plt.ylabel(\"Gas cost\")\n",
    "plt.title(\"Gas cost in Ethereum chain\")\n",
    "plt.legend(loc= \"upper center\")\n",
    "plt.show()"
   ]
  },
  {
   "cell_type": "markdown",
   "id": "7811a082",
   "metadata": {},
   "source": [
    "#### This query returns the average transaction cost in the binance smart chain"
   ]
  },
  {
   "cell_type": "code",
   "execution_count": 20,
   "id": "748c32a9",
   "metadata": {},
   "outputs": [
    {
     "name": "stdout",
     "output_type": "stream",
     "text": [
      "Result - {'data': {'ethereum': {'transactions': [{'date': {'date': '2021-01'}, 'gasPrice': 21.870199448472015, 'gasValue': 29792.865896690048, 'average': 0.002321787485677457, 'maxGasPrice': 190476.195987456, 'medianGasPrice': 20.0}, {'date': {'date': '2021-02'}, 'gasPrice': 16.671232048186567, 'gasValue': 87618.1797714013, 'average': 0.0016884277010606387, 'maxGasPrice': 999999.986991104, 'medianGasPrice': 10.0}, {'date': {'date': '2021-03'}, 'gasPrice': 14.032764682210917, 'gasValue': 119843.90414876472, 'average': 0.0014198094900079272, 'maxGasPrice': 400000.001507328, 'medianGasPrice': 10.0}, {'date': {'date': '2021-04'}, 'gasPrice': 8.665890511041058, 'gasValue': 157322.00010819413, 'average': 0.0009301225254607553, 'maxGasPrice': 333777.00806656, 'medianGasPrice': 5.0}, {'date': {'date': '2021-05'}, 'gasPrice': 7.859034367918531, 'gasValue': 224445.8016508567, 'average': 0.0009070371772128176, 'maxGasPrice': 104999.9966208, 'medianGasPrice': 5.0}, {'date': {'date': '2021-06'}, 'gasPrice': 7.4250573542601215, 'gasValue': 123354.18473048309, 'average': 0.000944621508978896, 'maxGasPrice': 46999.999086592, 'medianGasPrice': 5.0}, {'date': {'date': '2021-07'}, 'gasPrice': 7.052818393725109, 'gasValue': 180316.9810506075, 'average': 0.0009906069966922142, 'maxGasPrice': 56297.567289344, 'medianGasPrice': 5.0}, {'date': {'date': '2021-08'}, 'gasPrice': 6.092592725453702, 'gasValue': 211297.28024196366, 'average': 0.0008818285321066244, 'maxGasPrice': 104133.377916928, 'medianGasPrice': 5.0}, {'date': {'date': '2021-09'}, 'gasPrice': 6.492750662674085, 'gasValue': 148965.60718191203, 'average': 0.0008338170991063135, 'maxGasPrice': 1092151.999987712, 'medianGasPrice': 5.0}, {'date': {'date': '2021-10'}, 'gasPrice': 6.306158869914602, 'gasValue': 198130.68861939767, 'average': 0.0008235352745513066, 'maxGasPrice': 1223548.001583104, 'medianGasPrice': 5.0}, {'date': {'date': '2021-11'}, 'gasPrice': 6.464183770008323, 'gasValue': 335825.71569613036, 'average': 0.0008569983655351041, 'maxGasPrice': 577002.079780864, 'medianGasPrice': 5.0}, {'date': {'date': '2021-12'}, 'gasPrice': 6.807870779800073, 'gasValue': 226294.2625044069, 'average': 0.0008332838554826414, 'maxGasPrice': 500002.30875136, 'medianGasPrice': 5.0}, {'date': {'date': '2022-01'}, 'gasPrice': 6.799686263659293, 'gasValue': 160389.16940080727, 'average': 0.0008349391261768232, 'maxGasPrice': 53784.621350912, 'medianGasPrice': 5.0}, {'date': {'date': '2022-02'}, 'gasPrice': 6.6626799214173875, 'gasValue': 135036.06100249797, 'average': 0.0008627808823116893, 'maxGasPrice': 159282.72093184, 'medianGasPrice': 5.0}, {'date': {'date': '2022-03'}, 'gasPrice': 6.812107537899773, 'gasValue': 129154.26288424876, 'average': 0.0008180324638674114, 'maxGasPrice': 133327.621193728, 'medianGasPrice': 5.0}, {'date': {'date': '2022-04'}, 'gasPrice': 6.9452858723609285, 'gasValue': 123774.29772001915, 'average': 0.000821706184402756, 'maxGasPrice': 112962.496888832, 'medianGasPrice': 5.0}, {'date': {'date': '2022-05'}, 'gasPrice': 6.988505315914332, 'gasValue': 94554.81064677384, 'average': 0.000771634499429108, 'maxGasPrice': 301500.49660928, 'medianGasPrice': 5.0}]}}}\n"
     ]
    }
   ],
   "source": [
    "variables = {\n",
    "  \"limit\": 10,\n",
    "  \"offset\": 0,\n",
    "  \"network\": \"bsc\",\n",
    "  \"from\": \"2021-01-01\",\n",
    "  \"till\": \"2022-05-24T23:59:59\",\n",
    "  \"dateFormat\": \"%Y-%m\"\n",
    "}\n",
    "\n",
    "query2 = \"\"\"\n",
    "query ($network: EthereumNetwork!, $dateFormat: String!, $from: ISO8601DateTime, $till: ISO8601DateTime) {\n",
    "  ethereum(network: $network) {\n",
    "    transactions(options: {asc: \"date.date\"}, date: {since: $from, till: $till}) {\n",
    "      date: date {\n",
    "        date(format: $dateFormat)\n",
    "      }\n",
    "      gasPrice\n",
    "      gasValue\n",
    "      average: gasValue(calculate: average)\n",
    "      maxGasPrice: gasPrice(calculate: maximum)\n",
    "      medianGasPrice: gasPrice(calculate: median)\n",
    "    }\n",
    "  }\n",
    "}\n",
    "\n",
    "\n",
    "\n",
    "\"\"\"\n",
    "if not LOAD_FROM_FILE:\n",
    "    result2 = run_query(query2)  # Execute the query\n",
    "    write_json_to_file(result2, os.path.join(QUERIES_DIR, 'query7.json'))\n",
    "else:\n",
    "    result2 = load_json_from_file(os.path.join(QUERIES_DIR, 'query7.json'))\n",
    "\n",
    "print('Result - {}'.format(result2))"
   ]
  },
  {
   "cell_type": "code",
   "execution_count": 21,
   "id": "932fd400",
   "metadata": {},
   "outputs": [
    {
     "data": {
      "text/plain": "     gasPrice       gasValue   average   maxGasPrice  medianGasPrice date.date\n0   21.870199   29792.865897  0.002322  1.904762e+05            20.0   2021-01\n1   16.671232   87618.179771  0.001688  1.000000e+06            10.0   2021-02\n2   14.032765  119843.904149  0.001420  4.000000e+05            10.0   2021-03\n3    8.665891  157322.000108  0.000930  3.337770e+05             5.0   2021-04\n4    7.859034  224445.801651  0.000907  1.050000e+05             5.0   2021-05\n5    7.425057  123354.184730  0.000945  4.700000e+04             5.0   2021-06\n6    7.052818  180316.981051  0.000991  5.629757e+04             5.0   2021-07\n7    6.092593  211297.280242  0.000882  1.041334e+05             5.0   2021-08\n8    6.492751  148965.607182  0.000834  1.092152e+06             5.0   2021-09\n9    6.306159  198130.688619  0.000824  1.223548e+06             5.0   2021-10\n10   6.464184  335825.715696  0.000857  5.770021e+05             5.0   2021-11\n11   6.807871  226294.262504  0.000833  5.000023e+05             5.0   2021-12\n12   6.799686  160389.169401  0.000835  5.378462e+04             5.0   2022-01\n13   6.662680  135036.061002  0.000863  1.592827e+05             5.0   2022-02\n14   6.812108  129154.262884  0.000818  1.333276e+05             5.0   2022-03\n15   6.945286  123774.297720  0.000822  1.129625e+05             5.0   2022-04\n16   6.988505   94554.810647  0.000772  3.015005e+05             5.0   2022-05",
      "text/html": "<div>\n<style scoped>\n    .dataframe tbody tr th:only-of-type {\n        vertical-align: middle;\n    }\n\n    .dataframe tbody tr th {\n        vertical-align: top;\n    }\n\n    .dataframe thead th {\n        text-align: right;\n    }\n</style>\n<table border=\"1\" class=\"dataframe\">\n  <thead>\n    <tr style=\"text-align: right;\">\n      <th></th>\n      <th>gasPrice</th>\n      <th>gasValue</th>\n      <th>average</th>\n      <th>maxGasPrice</th>\n      <th>medianGasPrice</th>\n      <th>date.date</th>\n    </tr>\n  </thead>\n  <tbody>\n    <tr>\n      <th>0</th>\n      <td>21.870199</td>\n      <td>29792.865897</td>\n      <td>0.002322</td>\n      <td>1.904762e+05</td>\n      <td>20.0</td>\n      <td>2021-01</td>\n    </tr>\n    <tr>\n      <th>1</th>\n      <td>16.671232</td>\n      <td>87618.179771</td>\n      <td>0.001688</td>\n      <td>1.000000e+06</td>\n      <td>10.0</td>\n      <td>2021-02</td>\n    </tr>\n    <tr>\n      <th>2</th>\n      <td>14.032765</td>\n      <td>119843.904149</td>\n      <td>0.001420</td>\n      <td>4.000000e+05</td>\n      <td>10.0</td>\n      <td>2021-03</td>\n    </tr>\n    <tr>\n      <th>3</th>\n      <td>8.665891</td>\n      <td>157322.000108</td>\n      <td>0.000930</td>\n      <td>3.337770e+05</td>\n      <td>5.0</td>\n      <td>2021-04</td>\n    </tr>\n    <tr>\n      <th>4</th>\n      <td>7.859034</td>\n      <td>224445.801651</td>\n      <td>0.000907</td>\n      <td>1.050000e+05</td>\n      <td>5.0</td>\n      <td>2021-05</td>\n    </tr>\n    <tr>\n      <th>5</th>\n      <td>7.425057</td>\n      <td>123354.184730</td>\n      <td>0.000945</td>\n      <td>4.700000e+04</td>\n      <td>5.0</td>\n      <td>2021-06</td>\n    </tr>\n    <tr>\n      <th>6</th>\n      <td>7.052818</td>\n      <td>180316.981051</td>\n      <td>0.000991</td>\n      <td>5.629757e+04</td>\n      <td>5.0</td>\n      <td>2021-07</td>\n    </tr>\n    <tr>\n      <th>7</th>\n      <td>6.092593</td>\n      <td>211297.280242</td>\n      <td>0.000882</td>\n      <td>1.041334e+05</td>\n      <td>5.0</td>\n      <td>2021-08</td>\n    </tr>\n    <tr>\n      <th>8</th>\n      <td>6.492751</td>\n      <td>148965.607182</td>\n      <td>0.000834</td>\n      <td>1.092152e+06</td>\n      <td>5.0</td>\n      <td>2021-09</td>\n    </tr>\n    <tr>\n      <th>9</th>\n      <td>6.306159</td>\n      <td>198130.688619</td>\n      <td>0.000824</td>\n      <td>1.223548e+06</td>\n      <td>5.0</td>\n      <td>2021-10</td>\n    </tr>\n    <tr>\n      <th>10</th>\n      <td>6.464184</td>\n      <td>335825.715696</td>\n      <td>0.000857</td>\n      <td>5.770021e+05</td>\n      <td>5.0</td>\n      <td>2021-11</td>\n    </tr>\n    <tr>\n      <th>11</th>\n      <td>6.807871</td>\n      <td>226294.262504</td>\n      <td>0.000833</td>\n      <td>5.000023e+05</td>\n      <td>5.0</td>\n      <td>2021-12</td>\n    </tr>\n    <tr>\n      <th>12</th>\n      <td>6.799686</td>\n      <td>160389.169401</td>\n      <td>0.000835</td>\n      <td>5.378462e+04</td>\n      <td>5.0</td>\n      <td>2022-01</td>\n    </tr>\n    <tr>\n      <th>13</th>\n      <td>6.662680</td>\n      <td>135036.061002</td>\n      <td>0.000863</td>\n      <td>1.592827e+05</td>\n      <td>5.0</td>\n      <td>2022-02</td>\n    </tr>\n    <tr>\n      <th>14</th>\n      <td>6.812108</td>\n      <td>129154.262884</td>\n      <td>0.000818</td>\n      <td>1.333276e+05</td>\n      <td>5.0</td>\n      <td>2022-03</td>\n    </tr>\n    <tr>\n      <th>15</th>\n      <td>6.945286</td>\n      <td>123774.297720</td>\n      <td>0.000822</td>\n      <td>1.129625e+05</td>\n      <td>5.0</td>\n      <td>2022-04</td>\n    </tr>\n    <tr>\n      <th>16</th>\n      <td>6.988505</td>\n      <td>94554.810647</td>\n      <td>0.000772</td>\n      <td>3.015005e+05</td>\n      <td>5.0</td>\n      <td>2022-05</td>\n    </tr>\n  </tbody>\n</table>\n</div>"
     },
     "execution_count": 21,
     "metadata": {},
     "output_type": "execute_result"
    }
   ],
   "source": [
    "# Convert the result to a dataframe\n",
    "df2 = pd.json_normalize(result2['data']['ethereum']['transactions'])\n",
    "df2.head(17)\n"
   ]
  },
  {
   "cell_type": "code",
   "execution_count": 22,
   "id": "91b3cc6c",
   "metadata": {},
   "outputs": [
    {
     "data": {
      "text/plain": "<Figure size 504x360 with 1 Axes>",
      "image/png": "[encoded data removed]"
     },
     "metadata": {
      "needs_background": "light"
     },
     "output_type": "display_data"
    }
   ],
   "source": [
    "import matplotlib.pyplot as plt\n",
    "\n",
    "cost = df1[\"average\"]\n",
    "date = df1[\"date.date\"]\n",
    "\n",
    "fig = plt.figure(figsize = (7, 5))\n",
    "plt.bar(date, cost, color ='yellow',\n",
    "        width = 0.6, label = \"Trades count\")\n",
    "\n",
    "plt.xticks(rotation=60)\n",
    "plt.xlabel(\"Months\")\n",
    "plt.ylabel(\"Gas cost\")\n",
    "plt.title(\"Gas cost in Binance chain\")\n",
    "plt.legend(loc= \"upper center\")\n",
    "plt.show()"
   ]
  },
  {
   "cell_type": "code",
   "execution_count": 22,
   "id": "7064bd44",
   "metadata": {},
   "outputs": [],
   "source": []
  }
 ],
 "metadata": {
  "kernelspec": {
   "display_name": "Python 3 (ipykernel)",
   "language": "python",
   "name": "python3"
  },
  "language_info": {
   "codemirror_mode": {
    "name": "ipython",
    "version": 3
   },
   "file_extension": ".py",
   "mimetype": "text/x-python",
   "name": "python",
   "nbconvert_exporter": "python",
   "pygments_lexer": "ipython3",
   "version": "3.10.4"
  }
 },
 "nbformat": 4,
 "nbformat_minor": 5
}