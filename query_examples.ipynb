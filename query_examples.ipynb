{
 "cells": [
  {
   "cell_type": "markdown",
   "source": [
    "# Collecting data on decentralized exchanges using BitQuery GraphQL API\n",
    "\n",
    "**First we define how to run a query using API key from BitQuery**"
   ],
   "metadata": {
    "collapsed": false,
    "pycharm": {
     "name": "#%% md\n"
    }
   }
  },
  {
   "cell_type": "code",
   "execution_count": 6,
   "outputs": [],
   "source": [
    "import requests\n",
    "import pandas as pd\n",
    "import yaml\n",
    "\n",
    "\n",
    "with open('api.yaml', 'r') as f:\n",
    "    parsed_yaml = yaml.load(f, Loader=yaml.FullLoader)\n",
    "    API_KEY = parsed_yaml['api']\n",
    "\n",
    "\n",
    "def run_query(query):  # A simple function to use requests.post to make the API call.\n",
    "    headers = {'X-API-KEY': API_KEY}\n",
    "    request = requests.post('https://graphql.bitquery.io/', json={'query': query}, headers=headers)\n",
    "    if request.status_code == 200:\n",
    "        return request.json()\n",
    "    else:\n",
    "        raise Exception('Query failed and return code is {}.      {}'.format(request.status_code, query))\n"
   ],
   "metadata": {
    "collapsed": false,
    "pycharm": {
     "name": "#%%\n"
    }
   }
  },
  {
   "cell_type": "code",
   "execution_count": 7,
   "outputs": [
    {
     "name": "stdout",
     "output_type": "stream",
     "text": [
      "Result - {'data': {'ethereum': {'dexTrades': None}}, 'errors': [{'message': 'Net::ReadTimeout with #<TCPSocket:(closed)>', 'locations': [{'line': 4, 'column': 5}], 'path': ['ethereum', 'dexTrades'], 'error_type': 'client'}]}\n"
     ]
    }
   ],
   "source": [
    "query5 = \"\"\"\n",
    "{\n",
    "   ethereum {\n",
    "    dexTrades(options: {desc: [\"date.year\"]}) {\n",
    "      count\n",
    "      tradeAmount(in: USD)\n",
    "      date {\n",
    "        year\n",
    "      }\n",
    "    }\n",
    "  }\n",
    "}\n",
    "\"\"\"\n",
    "result5 = run_query(query5)  # Execute the query\n",
    "print ('Result - {}'.format(result5))"
   ],
   "metadata": {
    "collapsed": false,
    "pycharm": {
     "name": "#%%\n"
    }
   }
  },
  {
   "cell_type": "code",
   "execution_count": 8,
   "outputs": [
    {
     "ename": "NotImplementedError",
     "evalue": "",
     "output_type": "error",
     "traceback": [
      "\u001B[1;31m---------------------------------------------------------------------------\u001B[0m",
      "\u001B[1;31mNotImplementedError\u001B[0m                       Traceback (most recent call last)",
      "Input \u001B[1;32mIn [8]\u001B[0m, in \u001B[0;36m<cell line: 2>\u001B[1;34m()\u001B[0m\n\u001B[0;32m      1\u001B[0m \u001B[38;5;66;03m# Convert the result to a dataframe\u001B[39;00m\n\u001B[1;32m----> 2\u001B[0m df5 \u001B[38;5;241m=\u001B[39m \u001B[43mpd\u001B[49m\u001B[38;5;241;43m.\u001B[39;49m\u001B[43mjson_normalize\u001B[49m\u001B[43m(\u001B[49m\u001B[43mresult5\u001B[49m\u001B[43m[\u001B[49m\u001B[38;5;124;43m'\u001B[39;49m\u001B[38;5;124;43mdata\u001B[39;49m\u001B[38;5;124;43m'\u001B[39;49m\u001B[43m]\u001B[49m\u001B[43m[\u001B[49m\u001B[38;5;124;43m'\u001B[39;49m\u001B[38;5;124;43methereum\u001B[39;49m\u001B[38;5;124;43m'\u001B[39;49m\u001B[43m]\u001B[49m\u001B[43m[\u001B[49m\u001B[38;5;124;43m'\u001B[39;49m\u001B[38;5;124;43mdexTrades\u001B[39;49m\u001B[38;5;124;43m'\u001B[39;49m\u001B[43m]\u001B[49m\u001B[43m)\u001B[49m\n\u001B[0;32m      3\u001B[0m \u001B[38;5;28mprint\u001B[39m(df5)\n",
      "File \u001B[1;32m~\\anaconda3\\envs\\DEXDataCollector\\lib\\site-packages\\pandas\\io\\json\\_normalize.py:443\u001B[0m, in \u001B[0;36m_json_normalize\u001B[1;34m(data, record_path, meta, meta_prefix, record_prefix, errors, sep, max_level)\u001B[0m\n\u001B[0;32m    441\u001B[0m     data \u001B[38;5;241m=\u001B[39m \u001B[38;5;28mlist\u001B[39m(data)\n\u001B[0;32m    442\u001B[0m \u001B[38;5;28;01melse\u001B[39;00m:\n\u001B[1;32m--> 443\u001B[0m     \u001B[38;5;28;01mraise\u001B[39;00m \u001B[38;5;167;01mNotImplementedError\u001B[39;00m\n\u001B[0;32m    445\u001B[0m \u001B[38;5;66;03m# check to see if a simple recursive function is possible to\u001B[39;00m\n\u001B[0;32m    446\u001B[0m \u001B[38;5;66;03m# improve performance (see #15621) but only for cases such\u001B[39;00m\n\u001B[0;32m    447\u001B[0m \u001B[38;5;66;03m# as pd.Dataframe(data) or pd.Dataframe(data, sep)\u001B[39;00m\n\u001B[0;32m    448\u001B[0m \u001B[38;5;28;01mif\u001B[39;00m (\n\u001B[0;32m    449\u001B[0m     record_path \u001B[38;5;129;01mis\u001B[39;00m \u001B[38;5;28;01mNone\u001B[39;00m\n\u001B[0;32m    450\u001B[0m     \u001B[38;5;129;01mand\u001B[39;00m meta \u001B[38;5;129;01mis\u001B[39;00m \u001B[38;5;28;01mNone\u001B[39;00m\n\u001B[1;32m   (...)\u001B[0m\n\u001B[0;32m    453\u001B[0m     \u001B[38;5;129;01mand\u001B[39;00m max_level \u001B[38;5;129;01mis\u001B[39;00m \u001B[38;5;28;01mNone\u001B[39;00m\n\u001B[0;32m    454\u001B[0m ):\n",
      "\u001B[1;31mNotImplementedError\u001B[0m: "
     ]
    }
   ],
   "source": [
    "# Convert the result to a dataframe\n",
    "df5 = pd.json_normalize(result5['data']['ethereum']['dexTrades'])\n",
    "print(df5)"
   ],
   "metadata": {
    "collapsed": false,
    "pycharm": {
     "name": "#%%\n"
    }
   }
  },
  {
   "cell_type": "markdown",
   "source": [
    "**The below query fetches the top decentralized exchanges based on their protocol and sorted on the number of trades**"
   ],
   "metadata": {
    "collapsed": false,
    "pycharm": {
     "name": "#%% md\n"
    }
   }
  },
  {
   "cell_type": "code",
   "execution_count": null,
   "outputs": [],
   "source": [
    "query1 = \"\"\"\n",
    "{\n",
    "  ethereum {\n",
    "    dexTrades(options: {limit: 100, desc: \"count\"}, time: {since: \"2022-01-01\"}) {\n",
    "      count\n",
    "      protocol\n",
    "    }\n",
    "  }\n",
    "}\n",
    "\n",
    "\"\"\"\n",
    "result1 = run_query(query1)  # Execute the query\n",
    "print ('Result - {}'.format(result1))"
   ],
   "metadata": {
    "collapsed": false,
    "pycharm": {
     "name": "#%%\n"
    }
   }
  },
  {
   "cell_type": "code",
   "execution_count": null,
   "outputs": [],
   "source": [
    "import matplotlib\n",
    "\n",
    "# Convert the result to a dataframe\n",
    "df1 = pd.json_normalize(result1['data']['ethereum']['dexTrades'])\n",
    "print(df1)\n",
    "\n",
    "plot1 = df1.plot.pie(y='count', subplots=True, figsize=(11,6))"
   ],
   "metadata": {
    "collapsed": false,
    "pycharm": {
     "name": "#%%\n"
    }
   }
  },
  {
   "cell_type": "markdown",
   "source": [
    "**This is a good place to start as it shows us the most popular decentralized exchanges we can now compare**\n",
    "\n",
    "**The below query gives the daily trade volume of USDT and ETH on Uniswap**"
   ],
   "metadata": {
    "collapsed": false,
    "pycharm": {
     "name": "#%% md\n"
    }
   }
  },
  {
   "cell_type": "code",
   "execution_count": null,
   "outputs": [],
   "source": [
    "query2 = \"\"\"\n",
    "{\n",
    "  ethereum(network: ethereum) {\n",
    "    dexTrades(\n",
    "      options: {asc: \"date.month\", limit: 100}\n",
    "      protocol: {is: \"Uniswap v2\"}\n",
    "    ) {\n",
    "      count(time: {since: \"2022-01-01\"})\n",
    "      tradeAmount(in: USD)\n",
    "      protocol\n",
    "      date {\n",
    "        month\n",
    "        year\n",
    "      }\n",
    "    }\n",
    "  }\n",
    "}\n",
    "\"\"\"\n",
    "result2 = run_query(query2)  # Execute the query\n",
    "print ('Result - {}'.format(result2))"
   ],
   "metadata": {
    "collapsed": false,
    "pycharm": {
     "name": "#%%\n"
    }
   }
  },
  {
   "cell_type": "code",
   "execution_count": null,
   "outputs": [],
   "source": [
    "# Convert the result to a dataframe\n",
    "df2 = pd.json_normalize(result2['data']['ethereum']['dexTrades'])\n",
    "print(df2)"
   ],
   "metadata": {
    "collapsed": false,
    "pycharm": {
     "name": "#%%\n"
    }
   }
  },
  {
   "cell_type": "code",
   "execution_count": null,
   "outputs": [],
   "source": [
    "query3 = \"\"\"\n",
    "{\n",
    "  ethereum {\n",
    "    dexTrades(\n",
    "      options: {desc: \"tradeAmount\" limit: 100}\n",
    "    \texchangeName: {not: \"\"}\n",
    "      date: {since: \"2022-01-01\" till: null}\n",
    "    ) {\n",
    "      protocol\n",
    "      exchange {\n",
    "        name\n",
    "      }\n",
    "      tradeAmount(in:USD)\n",
    "    }\n",
    "  }\n",
    "}\n",
    "\"\"\"\n",
    "result3 = run_query(query3)  # Execute the query\n",
    "print ('Result - {}'.format(result3))"
   ],
   "metadata": {
    "collapsed": false,
    "pycharm": {
     "name": "#%%\n"
    }
   }
  },
  {
   "cell_type": "code",
   "execution_count": null,
   "outputs": [],
   "source": [
    "# Convert the result to a dataframe\n",
    "df3 = pd.json_normalize(result3['data']['ethereum']['dexTrades'])\n",
    "print(df3)\n",
    "\n",
    "plot3 = df3.head(6).plot.pie(title='Trade Amount USD of Top DEX since 01-Jan-2022',\n",
    "                             y='tradeAmount', subplots=True, figsize=(11,6),\n",
    "                             labels=df3['exchange.name'])"
   ],
   "metadata": {
    "collapsed": false,
    "pycharm": {
     "name": "#%%\n"
    }
   }
  },
  {
   "cell_type": "code",
   "execution_count": null,
   "outputs": [],
   "source": [
    "query4 = \"\"\"\n",
    "{\n",
    "  ethereum(network: ethereum) {\n",
    "    dexTrades(\n",
    "      options: {asc: \"date.month\", limit: 100}\n",
    "      protocol: {is: \"Uniswap v3\"}\n",
    "    ) {\n",
    "      count\n",
    "      tradeAmount(in: USD)\n",
    "      protocol\n",
    "      date {\n",
    "        month\n",
    "        year\n",
    "      }\n",
    "    }\n",
    "  }\n",
    "}\n",
    "\n",
    "\"\"\"\n",
    "result4 = run_query(query4)  # Execute the query\n",
    "print ('Result - {}'.format(result4))"
   ],
   "metadata": {
    "collapsed": false,
    "pycharm": {
     "name": "#%%\n"
    }
   }
  },
  {
   "cell_type": "code",
   "execution_count": null,
   "outputs": [],
   "source": [
    "# Convert the result to a dataframe\n",
    "df4 = pd.json_normalize(result4['data']['ethereum']['dexTrades'])\n",
    "print(df4)"
   ],
   "metadata": {
    "collapsed": false,
    "pycharm": {
     "name": "#%%\n"
    }
   }
  }
 ],
 "metadata": {
  "kernelspec": {
   "display_name": "Python 3",
   "language": "python",
   "name": "python3"
  },
  "language_info": {
   "codemirror_mode": {
    "name": "ipython",
    "version": 2
   },
   "file_extension": ".py",
   "mimetype": "text/x-python",
   "name": "python",
   "nbconvert_exporter": "python",
   "pygments_lexer": "ipython2",
   "version": "2.7.6"
  }
 },
 "nbformat": 4,
 "nbformat_minor": 0
}