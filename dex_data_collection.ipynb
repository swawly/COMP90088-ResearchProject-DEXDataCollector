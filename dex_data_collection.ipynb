{
 "cells": [
  {
   "cell_type": "markdown",
   "source": [
    "# Collecting data on decentralized exchanges using BitQuery GraphQL API\n",
    "\n",
    "**First we define how to run a query using API key from BitQuery**"
   ],
   "metadata": {
    "collapsed": false,
    "pycharm": {
     "name": "#%% md\n"
    }
   }
  },
  {
   "cell_type": "code",
   "execution_count": 21,
   "outputs": [],
   "source": [
    "import requests\n",
    "import pandas as pd\n",
    "import yaml\n",
    "\n",
    "\n",
    "global API_KEY\n",
    "with open('api.yaml', 'r') as f:\n",
    "    parsed_yaml = yaml.load(f, Loader=yaml.FullLoader)\n",
    "    API_KEY = parsed_yaml['api']\n",
    "\n",
    "\n",
    "def run_query(query):  # A simple function to use requests.post to make the API call.\n",
    "    headers = {'X-API-KEY': API_KEY}\n",
    "    request = requests.post('https://graphql.bitquery.io/', json={'query': query}, headers=headers)\n",
    "    if request.status_code == 200:\n",
    "        return request.json()\n",
    "    else:\n",
    "        raise Exception('Query failed and return code is {}.      {}'.format(request.status_code, query))\n"
   ],
   "metadata": {
    "collapsed": false,
    "pycharm": {
     "name": "#%%\n"
    }
   }
  },
  {
   "cell_type": "markdown",
   "source": [
    "**The below query fetches the top decentralized exchanges based on their protocol and sorted on the number of trades**"
   ],
   "metadata": {
    "collapsed": false,
    "pycharm": {
     "name": "#%% md\n"
    }
   }
  },
  {
   "cell_type": "code",
   "execution_count": 22,
   "outputs": [
    {
     "name": "stdout",
     "output_type": "stream",
     "text": [
      "Result - {'data': {'ethereum': {'dexTrades': [{'count': 87670684, 'protocol': 'Uniswap v2'}, {'count': 14159336, 'protocol': 'Uniswap v3'}, {'count': 5911016, 'protocol': 'IDEX'}, {'count': 3736115, 'protocol': 'EtherDelta'}, {'count': 2603444, 'protocol': 'Balancer Pool Token'}, {'count': 2538183, 'protocol': 'Uniswap'}, {'count': 2020098, 'protocol': 'Zerox Exchange v2'}, {'count': 1046443, 'protocol': 'Bancor Network'}, {'count': 1023483, 'protocol': 'Kyber Network v3'}, {'count': 866731, 'protocol': 'Bancor Network v2'}, {'count': 768626, 'protocol': 'dYdX2'}, {'count': 743531, 'protocol': 'Zerox Exchange'}, {'count': 487296, 'protocol': 'Matching Market'}, {'count': 466484, 'protocol': 'Zerox Exchange v3'}, {'count': 328196, 'protocol': 'Curve'}, {'count': 328131, 'protocol': 'Kyber Network v4'}, {'count': 320733, 'protocol': 'Token.Store'}, {'count': 320505, 'protocol': 'Zerox Exchange v4'}, {'count': 279603, 'protocol': 'Mooniswap'}, {'count': 233873, 'protocol': 'One Inch Liquidity Pool'}, {'count': 181136, 'protocol': 'Dodo'}, {'count': 91447, 'protocol': 'Kyber Network v2'}, {'count': 77242, 'protocol': 'DDEX Hydro v1.1'}, {'count': 73696, 'protocol': 'DDEX Hydro v1.0'}, {'count': 48304, 'protocol': 'AirSwap Exchange'}, {'count': 31764, 'protocol': 'Kyber Network'}, {'count': 20783, 'protocol': 'Smart DeFi'}, {'count': 19070, 'protocol': 'IDEX v2'}, {'count': 14514, 'protocol': 'Ethfinex'}, {'count': 13369, 'protocol': 'Cofix'}, {'count': 12627, 'protocol': 'dex.blue'}, {'count': 11858, 'protocol': 'AirSwap v2'}, {'count': 6890, 'protocol': 'ETHERCExchange'}, {'count': 2500, 'protocol': 'DUBIex'}, {'count': 2013, 'protocol': 'FEGex'}, {'count': 1647, 'protocol': 'FEGex v0'}, {'count': 157, 'protocol': 'AXNET'}]}}}\n"
     ]
    }
   ],
   "source": [
    "query = \"\"\"\n",
    "{\n",
    "  ethereum {\n",
    "    dexTrades(options: {limit: 100, desc: \"count\"}) {\n",
    "      count\n",
    "      protocol\n",
    "    }\n",
    "  }\n",
    "}\n",
    "\"\"\"\n",
    "result = run_query(query)  # Execute the query\n",
    "print ('Result - {}'.format(result))"
   ],
   "metadata": {
    "collapsed": false,
    "pycharm": {
     "name": "#%%\n"
    }
   }
  },
  {
   "cell_type": "code",
   "execution_count": 23,
   "outputs": [
    {
     "name": "stdout",
     "output_type": "stream",
     "text": [
      "       count                 protocol\n",
      "0   87670684               Uniswap v2\n",
      "1   14159336               Uniswap v3\n",
      "2    5911016                     IDEX\n",
      "3    3736115               EtherDelta\n",
      "4    2603444      Balancer Pool Token\n",
      "5    2538183                  Uniswap\n",
      "6    2020098        Zerox Exchange v2\n",
      "7    1046443           Bancor Network\n",
      "8    1023483         Kyber Network v3\n",
      "9     866731        Bancor Network v2\n",
      "10    768626                    dYdX2\n",
      "11    743531           Zerox Exchange\n",
      "12    487296          Matching Market\n",
      "13    466484        Zerox Exchange v3\n",
      "14    328196                    Curve\n",
      "15    328131         Kyber Network v4\n",
      "16    320733              Token.Store\n",
      "17    320505        Zerox Exchange v4\n",
      "18    279603                Mooniswap\n",
      "19    233873  One Inch Liquidity Pool\n",
      "20    181136                     Dodo\n",
      "21     91447         Kyber Network v2\n",
      "22     77242          DDEX Hydro v1.1\n",
      "23     73696          DDEX Hydro v1.0\n",
      "24     48304         AirSwap Exchange\n",
      "25     31764            Kyber Network\n",
      "26     20783               Smart DeFi\n",
      "27     19070                  IDEX v2\n",
      "28     14514                 Ethfinex\n",
      "29     13369                    Cofix\n",
      "30     12627                 dex.blue\n",
      "31     11858               AirSwap v2\n",
      "32      6890           ETHERCExchange\n",
      "33      2500                   DUBIex\n",
      "34      2013                    FEGex\n",
      "35      1647                 FEGex v0\n",
      "36       157                    AXNET\n"
     ]
    }
   ],
   "source": [
    "# Convert the result to a dataframe\n",
    "df = pd.json_normalize(result['data']['ethereum']['dexTrades'])\n",
    "print(df)"
   ],
   "metadata": {
    "collapsed": false,
    "pycharm": {
     "name": "#%%\n"
    }
   }
  },
  {
   "cell_type": "markdown",
   "source": [
    "**This is a good place to start as it shows us the most popular decentralized exchanges we can now compare**\n",
    "\n",
    "**Next lets find the top trades on decentralized exchanges in USD**"
   ],
   "metadata": {
    "collapsed": false,
    "pycharm": {
     "name": "#%% md\n"
    }
   }
  },
  {
   "cell_type": "code",
   "execution_count": 24,
   "outputs": [
    {
     "name": "stdout",
     "output_type": "stream",
     "text": [
      "Result - {'data': {'ethereum': {'dexTrades': None}}, 'errors': [{'message': 'ActiveRecord::ActiveRecordError: Response code: 500:\\nCode: 241, e.displayText() = DB::Exception: Memory limit (for query) exceeded: would use 29.80 GiB (attempt to allocate chunk of 4718592 bytes), maximum: 29.80 GiB: While executing AggregatingTransform (version 20.8.11.17 (official build))\\n', 'locations': [{'line': 4, 'column': 5}], 'path': ['ethereum', 'dexTrades'], 'error_type': 'server'}]}\n"
     ]
    }
   ],
   "source": [
    "query = \"\"\"\n",
    "{\n",
    "   ethereum {\n",
    "    dexTrades(options: {limit: 10 desc: \"tradeAmount\"}\n",
    "    date: {after: \"2020-11-01\"}) {\n",
    "      transaction {\n",
    "        hash\n",
    "      }\n",
    "      tradeIndex\n",
    "      date{date}\n",
    "\n",
    "      buyAmount\n",
    "      buyAmountInUsd:buyAmount(in: USD)\n",
    "      buyCurrency{symbol}\n",
    "\n",
    "      sellAmount\n",
    "      sellCurrency{symbol}\n",
    "      sellAmountInUsd:sellAmount(in: USD)\n",
    "\n",
    "      tradeAmount(in: USD)\n",
    "    }\n",
    "  }\n",
    "}\n",
    "\"\"\"\n",
    "result = run_query(query)  # Execute the query\n",
    "print ('Result - {}'.format(result))"
   ],
   "metadata": {
    "collapsed": false,
    "pycharm": {
     "name": "#%%\n"
    }
   }
  }
 ],
 "metadata": {
  "kernelspec": {
   "display_name": "Python 3",
   "language": "python",
   "name": "python3"
  },
  "language_info": {
   "codemirror_mode": {
    "name": "ipython",
    "version": 2
   },
   "file_extension": ".py",
   "mimetype": "text/x-python",
   "name": "python",
   "nbconvert_exporter": "python",
   "pygments_lexer": "ipython2",
   "version": "2.7.6"
  }
 },
 "nbformat": 4,
 "nbformat_minor": 0
}