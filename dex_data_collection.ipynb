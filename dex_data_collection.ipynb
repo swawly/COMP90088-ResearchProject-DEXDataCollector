{
 "cells": [
  {
   "cell_type": "markdown",
   "source": [
    "# Collecting data on decentralized exchanges using BitQuery GraphQL API\n",
    "\n",
    "**First we define how to run a query using API key from BitQuery**"
   ],
   "metadata": {
    "collapsed": false,
    "pycharm": {
     "name": "#%% md\n"
    }
   }
  },
  {
   "cell_type": "code",
   "execution_count": 1,
   "outputs": [],
   "source": [
    "import requests\n",
    "import pandas as pd\n",
    "import yaml\n",
    "\n",
    "\n",
    "with open('api.yaml', 'r') as f:\n",
    "    parsed_yaml = yaml.load(f, Loader=yaml.FullLoader)\n",
    "    API_KEY = parsed_yaml['api']\n",
    "\n",
    "\n",
    "def run_query(query):  # A simple function to use requests.post to make the API call.\n",
    "    headers = {'X-API-KEY': API_KEY}\n",
    "    request = requests.post('https://graphql.bitquery.io/', json={'query': query}, headers=headers)\n",
    "    if request.status_code == 200:\n",
    "        return request.json()\n",
    "    else:\n",
    "        raise Exception('Query failed and return code is {}.      {}'.format(request.status_code, query))\n"
   ],
   "metadata": {
    "collapsed": false,
    "pycharm": {
     "name": "#%%\n"
    }
   }
  },
  {
   "cell_type": "markdown",
   "source": [
    "**The below query fetches the top decentralized exchanges based on their protocol and sorted on the number of trades**"
   ],
   "metadata": {
    "collapsed": false,
    "pycharm": {
     "name": "#%% md\n"
    }
   }
  },
  {
   "cell_type": "code",
   "execution_count": 2,
   "outputs": [
    {
     "name": "stdout",
     "output_type": "stream",
     "text": [
      "Result - {'data': {'ethereum': {'dexTrades': [{'count': 87766950, 'protocol': 'Uniswap v2'}, {'count': 14236600, 'protocol': 'Uniswap v3'}, {'count': 5911016, 'protocol': 'IDEX'}, {'count': 3736126, 'protocol': 'EtherDelta'}, {'count': 2604842, 'protocol': 'Balancer Pool Token'}, {'count': 2538335, 'protocol': 'Uniswap'}, {'count': 2020822, 'protocol': 'Zerox Exchange v2'}, {'count': 1046443, 'protocol': 'Bancor Network'}, {'count': 1023483, 'protocol': 'Kyber Network v3'}, {'count': 868355, 'protocol': 'Bancor Network v2'}, {'count': 768626, 'protocol': 'dYdX2'}, {'count': 743531, 'protocol': 'Zerox Exchange'}, {'count': 487296, 'protocol': 'Matching Market'}, {'count': 466653, 'protocol': 'Zerox Exchange v3'}, {'count': 328797, 'protocol': 'Curve'}, {'count': 328141, 'protocol': 'Kyber Network v4'}, {'count': 322422, 'protocol': 'Zerox Exchange v4'}, {'count': 320733, 'protocol': 'Token.Store'}, {'count': 279656, 'protocol': 'Mooniswap'}, {'count': 234004, 'protocol': 'One Inch Liquidity Pool'}, {'count': 181219, 'protocol': 'Dodo'}, {'count': 91447, 'protocol': 'Kyber Network v2'}, {'count': 77242, 'protocol': 'DDEX Hydro v1.1'}, {'count': 73696, 'protocol': 'DDEX Hydro v1.0'}, {'count': 48304, 'protocol': 'AirSwap Exchange'}, {'count': 31764, 'protocol': 'Kyber Network'}, {'count': 20822, 'protocol': 'Smart DeFi'}, {'count': 19070, 'protocol': 'IDEX v2'}, {'count': 14514, 'protocol': 'Ethfinex'}, {'count': 13369, 'protocol': 'Cofix'}, {'count': 12627, 'protocol': 'dex.blue'}, {'count': 11862, 'protocol': 'AirSwap v2'}, {'count': 6890, 'protocol': 'ETHERCExchange'}, {'count': 2500, 'protocol': 'DUBIex'}, {'count': 2017, 'protocol': 'FEGex'}, {'count': 1647, 'protocol': 'FEGex v0'}, {'count': 157, 'protocol': 'AXNET'}]}}}\n"
     ]
    }
   ],
   "source": [
    "query = \"\"\"\n",
    "{\n",
    "  ethereum {\n",
    "    dexTrades(options: {limit: 100, desc: \"count\"}) {\n",
    "      count\n",
    "      protocol\n",
    "    }\n",
    "  }\n",
    "}\n",
    "\"\"\"\n",
    "result = run_query(query)  # Execute the query\n",
    "print ('Result - {}'.format(result))"
   ],
   "metadata": {
    "collapsed": false,
    "pycharm": {
     "name": "#%%\n"
    }
   }
  },
  {
   "cell_type": "code",
   "execution_count": 3,
   "outputs": [
    {
     "name": "stdout",
     "output_type": "stream",
     "text": [
      "       count                 protocol\n",
      "0   87766950               Uniswap v2\n",
      "1   14236600               Uniswap v3\n",
      "2    5911016                     IDEX\n",
      "3    3736126               EtherDelta\n",
      "4    2604842      Balancer Pool Token\n",
      "5    2538335                  Uniswap\n",
      "6    2020822        Zerox Exchange v2\n",
      "7    1046443           Bancor Network\n",
      "8    1023483         Kyber Network v3\n",
      "9     868355        Bancor Network v2\n",
      "10    768626                    dYdX2\n",
      "11    743531           Zerox Exchange\n",
      "12    487296          Matching Market\n",
      "13    466653        Zerox Exchange v3\n",
      "14    328797                    Curve\n",
      "15    328141         Kyber Network v4\n",
      "16    322422        Zerox Exchange v4\n",
      "17    320733              Token.Store\n",
      "18    279656                Mooniswap\n",
      "19    234004  One Inch Liquidity Pool\n",
      "20    181219                     Dodo\n",
      "21     91447         Kyber Network v2\n",
      "22     77242          DDEX Hydro v1.1\n",
      "23     73696          DDEX Hydro v1.0\n",
      "24     48304         AirSwap Exchange\n",
      "25     31764            Kyber Network\n",
      "26     20822               Smart DeFi\n",
      "27     19070                  IDEX v2\n",
      "28     14514                 Ethfinex\n",
      "29     13369                    Cofix\n",
      "30     12627                 dex.blue\n",
      "31     11862               AirSwap v2\n",
      "32      6890           ETHERCExchange\n",
      "33      2500                   DUBIex\n",
      "34      2017                    FEGex\n",
      "35      1647                 FEGex v0\n",
      "36       157                    AXNET\n"
     ]
    }
   ],
   "source": [
    "# Convert the result to a dataframe\n",
    "df = pd.json_normalize(result['data']['ethereum']['dexTrades'])\n",
    "print(df)"
   ],
   "metadata": {
    "collapsed": false,
    "pycharm": {
     "name": "#%%\n"
    }
   }
  },
  {
   "cell_type": "markdown",
   "source": [
    "**This is a good place to start as it shows us the most popular decentralized exchanges we can now compare**\n",
    "\n",
    "**The below query gives the daily trade volume of USDT and ETH on Uniswap**"
   ],
   "metadata": {
    "collapsed": false,
    "pycharm": {
     "name": "#%% md\n"
    }
   }
  },
  {
   "cell_type": "code",
   "execution_count": null,
   "outputs": [],
   "source": [
    "query = \"\"\"\n",
    "{\n",
    "  ethereum(network: ethereum) {\n",
    "    dexTrades(options: {limit: 100, asc: \"timeInterval.day\"},\n",
    "      date: {since:\"2022-05-05\"}\n",
    "      exchangeName: {is: \"Uniswap\"},\n",
    "      baseCurrency: {is: \"0xdac17f958d2ee523a2206206994597c13d831ec7\"},\n",
    "      quoteCurrency: {is: \"0xc02aaa39b223fe8d0a0e5c4f27ead9083c756cc2\"}) {\n",
    "\n",
    "\n",
    "      timeInterval {\n",
    "        day(count: 1)\n",
    "      }\n",
    "\n",
    "      baseCurrency {\n",
    "        symbol\n",
    "        address\n",
    "      }\n",
    "      baseAmount\n",
    "      quoteCurrency {\n",
    "        symbol\n",
    "        address\n",
    "      }\n",
    "      quoteAmount\n",
    "\n",
    "      trades: count\n",
    "      quotePrice\n",
    "\n",
    "      maximum_price: quotePrice(calculate: maximum)\n",
    "      minimum_price: quotePrice(calculate: minimum)\n",
    "\n",
    "      open_price: minimum(of: block get: quote_price)\n",
    "      close_price: maximum(of: block get: quote_price)\n",
    "  \t\ttradeAmount(in: USDT)\n",
    "    }\n",
    "  }\n",
    "}\n",
    "\"\"\"\n",
    "result = run_query(query)  # Execute the query\n",
    "print ('Result - {}'.format(result))"
   ],
   "metadata": {
    "collapsed": false,
    "pycharm": {
     "name": "#%%\n"
    }
   }
  },
  {
   "cell_type": "code",
   "execution_count": null,
   "outputs": [],
   "source": [
    "# Convert the result to a dataframe\n",
    "df = pd.json_normalize(result['data']['ethereum']['dexTrades'])\n",
    "print(df)"
   ],
   "metadata": {
    "collapsed": false,
    "pycharm": {
     "name": "#%%\n"
    }
   }
  },
  {
   "cell_type": "code",
   "execution_count": 11,
   "outputs": [
    {
     "name": "stdout",
     "output_type": "stream",
     "text": [
      "      baseAmount    quoteAmount  trades  quotePrice  maximum_price  \\\n",
      "0   1.362603e+08   48875.224526    4405    0.000359       0.000400   \n",
      "1   1.883495e+08   70232.189943    4773    0.000373       0.000399   \n",
      "2   1.089553e+08   40989.540984    3823    0.000376       0.000390   \n",
      "3   2.604093e+08  102702.544828    5721    0.000394       0.000450   \n",
      "4   2.669112e+08  113164.877628    7777    0.000424       0.000507   \n",
      "5   2.471876e+08  105352.182036    7371    0.000426       0.000749   \n",
      "6   4.091710e+08  182431.703348    8218    0.000446       0.000986   \n",
      "7   6.580154e+08  342469.695267    9021    0.000520       0.057808   \n",
      "8   2.239275e+08  108000.309110    6357    0.000482       0.000523   \n",
      "9   1.229483e+08   61628.607490    5726    0.000501       0.000856   \n",
      "10  3.310531e+07   16211.295075    2102    0.000490       0.000500   \n",
      "\n",
      "    minimum_price              open_price             close_price tradeAmount  \\\n",
      "0        0.000338   0.0003418299240166425  0.00036359136928855326        None   \n",
      "1        0.000361   0.0003655523813500604  0.00036955809196708355        None   \n",
      "2        0.000370   0.0003712410056298423   0.0003772734615687585        None   \n",
      "3        0.000377  0.00037968615811378445   0.0003966414443851168        None   \n",
      "4        0.000395   0.0003961522214226375   0.0004482195652861663        None   \n",
      "5        0.000400   0.0004466521891395049   0.0004252779813984099        None   \n",
      "6        0.000397   0.0004267541311678321   0.0004792655319817897        None   \n",
      "7        0.000450  0.00047871777875736776   0.0005073845087422679        None   \n",
      "8        0.000451   0.0005100986430102539   0.0004962567356481546        None   \n",
      "9        0.000483   0.0004970164066959033  0.00048632147862743457        None   \n",
      "10       0.000464  0.00048646116668897663  0.00048724862108359197        None   \n",
      "\n",
      "   timeInterval.day baseCurrency.symbol  \\\n",
      "0        2022-05-05                USDT   \n",
      "1        2022-05-06                USDT   \n",
      "2        2022-05-07                USDT   \n",
      "3        2022-05-08                USDT   \n",
      "4        2022-05-09                USDT   \n",
      "5        2022-05-10                USDT   \n",
      "6        2022-05-11                USDT   \n",
      "7        2022-05-12                USDT   \n",
      "8        2022-05-13                USDT   \n",
      "9        2022-05-14                USDT   \n",
      "10       2022-05-15                USDT   \n",
      "\n",
      "                          baseCurrency.address quoteCurrency.symbol  \\\n",
      "0   0xdac17f958d2ee523a2206206994597c13d831ec7                 WETH   \n",
      "1   0xdac17f958d2ee523a2206206994597c13d831ec7                 WETH   \n",
      "2   0xdac17f958d2ee523a2206206994597c13d831ec7                 WETH   \n",
      "3   0xdac17f958d2ee523a2206206994597c13d831ec7                 WETH   \n",
      "4   0xdac17f958d2ee523a2206206994597c13d831ec7                 WETH   \n",
      "5   0xdac17f958d2ee523a2206206994597c13d831ec7                 WETH   \n",
      "6   0xdac17f958d2ee523a2206206994597c13d831ec7                 WETH   \n",
      "7   0xdac17f958d2ee523a2206206994597c13d831ec7                 WETH   \n",
      "8   0xdac17f958d2ee523a2206206994597c13d831ec7                 WETH   \n",
      "9   0xdac17f958d2ee523a2206206994597c13d831ec7                 WETH   \n",
      "10  0xdac17f958d2ee523a2206206994597c13d831ec7                 WETH   \n",
      "\n",
      "                         quoteCurrency.address  \n",
      "0   0xc02aaa39b223fe8d0a0e5c4f27ead9083c756cc2  \n",
      "1   0xc02aaa39b223fe8d0a0e5c4f27ead9083c756cc2  \n",
      "2   0xc02aaa39b223fe8d0a0e5c4f27ead9083c756cc2  \n",
      "3   0xc02aaa39b223fe8d0a0e5c4f27ead9083c756cc2  \n",
      "4   0xc02aaa39b223fe8d0a0e5c4f27ead9083c756cc2  \n",
      "5   0xc02aaa39b223fe8d0a0e5c4f27ead9083c756cc2  \n",
      "6   0xc02aaa39b223fe8d0a0e5c4f27ead9083c756cc2  \n",
      "7   0xc02aaa39b223fe8d0a0e5c4f27ead9083c756cc2  \n",
      "8   0xc02aaa39b223fe8d0a0e5c4f27ead9083c756cc2  \n",
      "9   0xc02aaa39b223fe8d0a0e5c4f27ead9083c756cc2  \n",
      "10  0xc02aaa39b223fe8d0a0e5c4f27ead9083c756cc2  \n"
     ]
    }
   ],
   "source": [
    "# Convert the result to a dataframe\n",
    "df = pd.json_normalize(result['data']['ethereum']['dexTrades'])\n",
    "print(df)"
   ],
   "metadata": {
    "collapsed": false,
    "pycharm": {
     "name": "#%%\n"
    }
   }
  }
 ],
 "metadata": {
  "kernelspec": {
   "display_name": "Python 3",
   "language": "python",
   "name": "python3"
  },
  "language_info": {
   "codemirror_mode": {
    "name": "ipython",
    "version": 2
   },
   "file_extension": ".py",
   "mimetype": "text/x-python",
   "name": "python",
   "nbconvert_exporter": "python",
   "pygments_lexer": "ipython2",
   "version": "2.7.6"
  }
 },
 "nbformat": 4,
 "nbformat_minor": 0
}